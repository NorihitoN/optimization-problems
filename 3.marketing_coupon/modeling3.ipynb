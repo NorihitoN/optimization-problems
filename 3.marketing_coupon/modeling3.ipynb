{
 "cells": [
  {
   "cell_type": "markdown",
   "metadata": {},
   "source": [
    "## Import PuLP package"
   ]
  },
  {
   "cell_type": "code",
   "execution_count": 2,
   "metadata": {},
   "outputs": [],
   "source": [
    "import pulp\n",
    "import pandas as pd\n",
    "import matplotlib.pyplot as plt\n",
    "import seaborn as sns\n",
    "import time"
   ]
  },
  {
   "cell_type": "code",
   "execution_count": 3,
   "metadata": {},
   "outputs": [],
   "source": [
    "# pulp.pulpTestAll()"
   ]
  },
  {
   "cell_type": "markdown",
   "metadata": {},
   "source": [
    "## Define Constant"
   ]
  },
  {
   "cell_type": "markdown",
   "metadata": {},
   "source": [
    "割引クーポンによるマーケティングキャンペーンの最適化\n",
    "送付率下限値最大化モデルとする。\n",
    "\n",
    "- customers.csv             :顧客情報\n",
    "- visit_probability.csv     :キャンペーン毎の顧客来店確率\n",
    "- キャンペーンの種類は1.メール、2.メール＋1000円割引クーポン、3.メール＋2000円割引クーポンの3種類"
   ]
  },
  {
   "cell_type": "code",
   "execution_count": 4,
   "metadata": {},
   "outputs": [],
   "source": [
    "customer_df = pd.read_csv('customers.csv')\n",
    "visit_prob_df = pd.read_csv('visit_probability.csv')"
   ]
  },
  {
   "cell_type": "code",
   "execution_count": 5,
   "metadata": {},
   "outputs": [
    {
     "data": {
      "text/html": [
       "<div>\n",
       "<style scoped>\n",
       "    .dataframe tbody tr th:only-of-type {\n",
       "        vertical-align: middle;\n",
       "    }\n",
       "\n",
       "    .dataframe tbody tr th {\n",
       "        vertical-align: top;\n",
       "    }\n",
       "\n",
       "    .dataframe thead th {\n",
       "        text-align: right;\n",
       "    }\n",
       "</style>\n",
       "<table border=\"1\" class=\"dataframe\">\n",
       "  <thead>\n",
       "    <tr style=\"text-align: right;\">\n",
       "      <th></th>\n",
       "      <th>customer_id</th>\n",
       "      <th>age_cat</th>\n",
       "      <th>freq_cat</th>\n",
       "    </tr>\n",
       "  </thead>\n",
       "  <tbody>\n",
       "    <tr>\n",
       "      <th>0</th>\n",
       "      <td>1</td>\n",
       "      <td>age20~34</td>\n",
       "      <td>freq2</td>\n",
       "    </tr>\n",
       "    <tr>\n",
       "      <th>1</th>\n",
       "      <td>2</td>\n",
       "      <td>age35~49</td>\n",
       "      <td>freq0</td>\n",
       "    </tr>\n",
       "    <tr>\n",
       "      <th>2</th>\n",
       "      <td>3</td>\n",
       "      <td>age35~49</td>\n",
       "      <td>freq0</td>\n",
       "    </tr>\n",
       "    <tr>\n",
       "      <th>3</th>\n",
       "      <td>4</td>\n",
       "      <td>age~19</td>\n",
       "      <td>freq0</td>\n",
       "    </tr>\n",
       "    <tr>\n",
       "      <th>4</th>\n",
       "      <td>5</td>\n",
       "      <td>age35~49</td>\n",
       "      <td>freq0</td>\n",
       "    </tr>\n",
       "  </tbody>\n",
       "</table>\n",
       "</div>"
      ],
      "text/plain": [
       "   customer_id   age_cat freq_cat\n",
       "0            1  age20~34    freq2\n",
       "1            2  age35~49    freq0\n",
       "2            3  age35~49    freq0\n",
       "3            4    age~19    freq0\n",
       "4            5  age35~49    freq0"
      ]
     },
     "execution_count": 5,
     "metadata": {},
     "output_type": "execute_result"
    }
   ],
   "source": [
    "customer_df.head()"
   ]
  },
  {
   "cell_type": "code",
   "execution_count": 6,
   "metadata": {},
   "outputs": [
    {
     "data": {
      "text/plain": [
       "(5000, 3)"
      ]
     },
     "execution_count": 6,
     "metadata": {},
     "output_type": "execute_result"
    }
   ],
   "source": [
    "customer_df.shape"
   ]
  },
  {
   "cell_type": "code",
   "execution_count": 7,
   "metadata": {},
   "outputs": [
    {
     "data": {
      "text/plain": [
       "customer_id    {1, 2, 3, 4, 5, 6, 7, 8, 9, 10, 11, 12, 13, 14...\n",
       "age_cat                     {age50~, age35~49, age~19, age20~34}\n",
       "freq_cat                           {freq0, freq2, freq1, freq3~}\n",
       "dtype: object"
      ]
     },
     "execution_count": 7,
     "metadata": {},
     "output_type": "execute_result"
    }
   ],
   "source": [
    "customer_df.apply(set)"
   ]
  },
  {
   "cell_type": "code",
   "execution_count": 8,
   "metadata": {},
   "outputs": [
    {
     "data": {
      "text/html": [
       "<div>\n",
       "<style scoped>\n",
       "    .dataframe tbody tr th:only-of-type {\n",
       "        vertical-align: middle;\n",
       "    }\n",
       "\n",
       "    .dataframe tbody tr th {\n",
       "        vertical-align: top;\n",
       "    }\n",
       "\n",
       "    .dataframe thead th {\n",
       "        text-align: right;\n",
       "    }\n",
       "</style>\n",
       "<table border=\"1\" class=\"dataframe\">\n",
       "  <thead>\n",
       "    <tr style=\"text-align: right;\">\n",
       "      <th></th>\n",
       "      <th>age_cat</th>\n",
       "      <th>freq_cat</th>\n",
       "      <th>segment_id</th>\n",
       "      <th>prob_dm1</th>\n",
       "      <th>prob_dm2</th>\n",
       "      <th>prob_dm3</th>\n",
       "    </tr>\n",
       "  </thead>\n",
       "  <tbody>\n",
       "    <tr>\n",
       "      <th>0</th>\n",
       "      <td>age~19</td>\n",
       "      <td>freq0</td>\n",
       "      <td>1</td>\n",
       "      <td>0.07</td>\n",
       "      <td>0.12</td>\n",
       "      <td>0.29</td>\n",
       "    </tr>\n",
       "    <tr>\n",
       "      <th>1</th>\n",
       "      <td>age~19</td>\n",
       "      <td>freq1</td>\n",
       "      <td>2</td>\n",
       "      <td>0.21</td>\n",
       "      <td>0.30</td>\n",
       "      <td>0.58</td>\n",
       "    </tr>\n",
       "    <tr>\n",
       "      <th>2</th>\n",
       "      <td>age~19</td>\n",
       "      <td>freq2</td>\n",
       "      <td>3</td>\n",
       "      <td>0.28</td>\n",
       "      <td>0.39</td>\n",
       "      <td>0.74</td>\n",
       "    </tr>\n",
       "    <tr>\n",
       "      <th>3</th>\n",
       "      <td>age~19</td>\n",
       "      <td>freq3~</td>\n",
       "      <td>4</td>\n",
       "      <td>0.35</td>\n",
       "      <td>0.45</td>\n",
       "      <td>0.77</td>\n",
       "    </tr>\n",
       "    <tr>\n",
       "      <th>4</th>\n",
       "      <td>age20~34</td>\n",
       "      <td>freq0</td>\n",
       "      <td>5</td>\n",
       "      <td>0.11</td>\n",
       "      <td>0.17</td>\n",
       "      <td>0.37</td>\n",
       "    </tr>\n",
       "  </tbody>\n",
       "</table>\n",
       "</div>"
      ],
      "text/plain": [
       "    age_cat freq_cat  segment_id  prob_dm1  prob_dm2  prob_dm3\n",
       "0    age~19    freq0           1      0.07      0.12      0.29\n",
       "1    age~19    freq1           2      0.21      0.30      0.58\n",
       "2    age~19    freq2           3      0.28      0.39      0.74\n",
       "3    age~19   freq3~           4      0.35      0.45      0.77\n",
       "4  age20~34    freq0           5      0.11      0.17      0.37"
      ]
     },
     "execution_count": 8,
     "metadata": {},
     "output_type": "execute_result"
    }
   ],
   "source": [
    "visit_prob_df.head()"
   ]
  },
  {
   "cell_type": "code",
   "execution_count": 9,
   "metadata": {},
   "outputs": [
    {
     "data": {
      "image/png": "[encoded data removed]",
      "text/plain": [
       "<Figure size 1440x216 with 6 Axes>"
      ]
     },
     "metadata": {
      "needs_background": "light"
     },
     "output_type": "display_data"
    }
   ],
   "source": [
    "fig, axes = plt.subplots(1,3, figsize=(20,3))\n",
    "for i, prob in enumerate(['prob_dm1', 'prob_dm2', 'prob_dm3']):\n",
    "    visit_prob_pivot = pd.pivot_table(visit_prob_df, prob, index='age_cat', columns=['freq_cat'] )\n",
    "    visit_prob_pivot = visit_prob_pivot.reindex(['age~19', 'age20~34', 'age35~49', 'age50~'])\n",
    "    sns.heatmap(visit_prob_pivot, ax=axes[i], vmin=0, vmax=1, annot=True, fmt='.0%', cmap='Blues')\n",
    "    axes[i].set_title(f'Visit Probability of {prob}')\n",
    "plt.show()"
   ]
  },
  {
   "cell_type": "code",
   "execution_count": 10,
   "metadata": {},
   "outputs": [],
   "source": [
    "#顧客のリスト\n",
    "I = customer_df['customer_id'].to_list()\n",
    "#クーポンのリスト\n",
    "M = [ 1, 2, 3]"
   ]
  },
  {
   "cell_type": "code",
   "execution_count": 11,
   "metadata": {},
   "outputs": [
    {
     "data": {
      "text/html": [
       "<div>\n",
       "<style scoped>\n",
       "    .dataframe tbody tr th:only-of-type {\n",
       "        vertical-align: middle;\n",
       "    }\n",
       "\n",
       "    .dataframe tbody tr th {\n",
       "        vertical-align: top;\n",
       "    }\n",
       "\n",
       "    .dataframe thead th {\n",
       "        text-align: right;\n",
       "    }\n",
       "</style>\n",
       "<table border=\"1\" class=\"dataframe\">\n",
       "  <thead>\n",
       "    <tr style=\"text-align: right;\">\n",
       "      <th></th>\n",
       "      <th>customer_id</th>\n",
       "      <th>age_cat</th>\n",
       "      <th>freq_cat</th>\n",
       "      <th>segment_id</th>\n",
       "      <th>prob_dm1</th>\n",
       "      <th>prob_dm2</th>\n",
       "      <th>prob_dm3</th>\n",
       "    </tr>\n",
       "  </thead>\n",
       "  <tbody>\n",
       "    <tr>\n",
       "      <th>0</th>\n",
       "      <td>1</td>\n",
       "      <td>age20~34</td>\n",
       "      <td>freq2</td>\n",
       "      <td>7</td>\n",
       "      <td>0.42</td>\n",
       "      <td>0.55</td>\n",
       "      <td>0.93</td>\n",
       "    </tr>\n",
       "    <tr>\n",
       "      <th>1</th>\n",
       "      <td>199</td>\n",
       "      <td>age20~34</td>\n",
       "      <td>freq2</td>\n",
       "      <td>7</td>\n",
       "      <td>0.42</td>\n",
       "      <td>0.55</td>\n",
       "      <td>0.93</td>\n",
       "    </tr>\n",
       "    <tr>\n",
       "      <th>2</th>\n",
       "      <td>200</td>\n",
       "      <td>age20~34</td>\n",
       "      <td>freq2</td>\n",
       "      <td>7</td>\n",
       "      <td>0.42</td>\n",
       "      <td>0.55</td>\n",
       "      <td>0.93</td>\n",
       "    </tr>\n",
       "    <tr>\n",
       "      <th>3</th>\n",
       "      <td>255</td>\n",
       "      <td>age20~34</td>\n",
       "      <td>freq2</td>\n",
       "      <td>7</td>\n",
       "      <td>0.42</td>\n",
       "      <td>0.55</td>\n",
       "      <td>0.93</td>\n",
       "    </tr>\n",
       "    <tr>\n",
       "      <th>4</th>\n",
       "      <td>269</td>\n",
       "      <td>age20~34</td>\n",
       "      <td>freq2</td>\n",
       "      <td>7</td>\n",
       "      <td>0.42</td>\n",
       "      <td>0.55</td>\n",
       "      <td>0.93</td>\n",
       "    </tr>\n",
       "  </tbody>\n",
       "</table>\n",
       "</div>"
      ],
      "text/plain": [
       "   customer_id   age_cat freq_cat  segment_id  prob_dm1  prob_dm2  prob_dm3\n",
       "0            1  age20~34    freq2           7      0.42      0.55      0.93\n",
       "1          199  age20~34    freq2           7      0.42      0.55      0.93\n",
       "2          200  age20~34    freq2           7      0.42      0.55      0.93\n",
       "3          255  age20~34    freq2           7      0.42      0.55      0.93\n",
       "4          269  age20~34    freq2           7      0.42      0.55      0.93"
      ]
     },
     "execution_count": 11,
     "metadata": {},
     "output_type": "execute_result"
    }
   ],
   "source": [
    "cus_prob_df = pd.merge(customer_df, visit_prob_df, on=['age_cat', 'freq_cat'])\n",
    "cus_prob_df.head()"
   ]
  },
  {
   "cell_type": "code",
   "execution_count": 12,
   "metadata": {},
   "outputs": [
    {
     "data": {
      "text/plain": [
       "(5000, 7)"
      ]
     },
     "execution_count": 12,
     "metadata": {},
     "output_type": "execute_result"
    }
   ],
   "source": [
    "cus_prob_df.shape"
   ]
  },
  {
   "cell_type": "code",
   "execution_count": 13,
   "metadata": {},
   "outputs": [
    {
     "data": {
      "text/plain": [
       "[1, 2, 3, 4, 5, 6, 7, 8, 9, 10, 11, 12, 13, 14, 15, 16]"
      ]
     },
     "execution_count": 13,
     "metadata": {},
     "output_type": "execute_result"
    }
   ],
   "source": [
    "#セグメントのリスト\n",
    "S = visit_prob_df['segment_id'].to_list()\n",
    "S"
   ]
  },
  {
   "cell_type": "markdown",
   "metadata": {},
   "source": [
    "## Create Variable"
   ]
  },
  {
   "cell_type": "markdown",
   "metadata": {},
   "source": [
    "セグメントsをキャンペーンmに割り当てる確率0-1"
   ]
  },
  {
   "cell_type": "code",
   "execution_count": 14,
   "metadata": {},
   "outputs": [],
   "source": [
    "# 0-1整数計画問題の場合 binary\n",
    "\n",
    "xsm={}\n",
    "for s in S:\n",
    "    for m in M:\n",
    "        xsm[s,m] = pulp.LpVariable(f'xsm({s},{m})', lowBound=0, upBound=1, cat='Continuous')"
   ]
  },
  {
   "cell_type": "code",
   "execution_count": 15,
   "metadata": {},
   "outputs": [
    {
     "data": {
      "text/plain": [
       "xsm(1,1)"
      ]
     },
     "execution_count": 15,
     "metadata": {},
     "output_type": "execute_result"
    }
   ],
   "source": [
    "xsm[1,1]"
   ]
  },
  {
   "cell_type": "code",
   "execution_count": 16,
   "metadata": {},
   "outputs": [
    {
     "data": {
      "text/plain": [
       "48"
      ]
     },
     "execution_count": 16,
     "metadata": {},
     "output_type": "execute_result"
    }
   ],
   "source": [
    "len(xsm)"
   ]
  },
  {
   "cell_type": "markdown",
   "metadata": {},
   "source": [
    "- 各セグメントへのそれぞれのパターンのダイレクトメールの送付率の下限値"
   ]
  },
  {
   "cell_type": "code",
   "execution_count": 17,
   "metadata": {},
   "outputs": [],
   "source": [
    "y = pulp.LpVariable(name='y', lowBound=0, upBound=1, cat='Continuous')"
   ]
  },
  {
   "cell_type": "code",
   "execution_count": 18,
   "metadata": {},
   "outputs": [
    {
     "data": {
      "text/html": [
       "<div>\n",
       "<style scoped>\n",
       "    .dataframe tbody tr th:only-of-type {\n",
       "        vertical-align: middle;\n",
       "    }\n",
       "\n",
       "    .dataframe tbody tr th {\n",
       "        vertical-align: top;\n",
       "    }\n",
       "\n",
       "    .dataframe thead th {\n",
       "        text-align: right;\n",
       "    }\n",
       "</style>\n",
       "<table border=\"1\" class=\"dataframe\">\n",
       "  <thead>\n",
       "    <tr style=\"text-align: right;\">\n",
       "      <th></th>\n",
       "      <th>customer_id</th>\n",
       "      <th>dm</th>\n",
       "      <th>prob</th>\n",
       "    </tr>\n",
       "  </thead>\n",
       "  <tbody>\n",
       "    <tr>\n",
       "      <th>0</th>\n",
       "      <td>1</td>\n",
       "      <td>1</td>\n",
       "      <td>0.42</td>\n",
       "    </tr>\n",
       "    <tr>\n",
       "      <th>1</th>\n",
       "      <td>199</td>\n",
       "      <td>1</td>\n",
       "      <td>0.42</td>\n",
       "    </tr>\n",
       "    <tr>\n",
       "      <th>2</th>\n",
       "      <td>200</td>\n",
       "      <td>1</td>\n",
       "      <td>0.42</td>\n",
       "    </tr>\n",
       "    <tr>\n",
       "      <th>3</th>\n",
       "      <td>255</td>\n",
       "      <td>1</td>\n",
       "      <td>0.42</td>\n",
       "    </tr>\n",
       "    <tr>\n",
       "      <th>4</th>\n",
       "      <td>269</td>\n",
       "      <td>1</td>\n",
       "      <td>0.42</td>\n",
       "    </tr>\n",
       "  </tbody>\n",
       "</table>\n",
       "</div>"
      ],
      "text/plain": [
       "   customer_id dm  prob\n",
       "0            1  1  0.42\n",
       "1          199  1  0.42\n",
       "2          200  1  0.42\n",
       "3          255  1  0.42\n",
       "4          269  1  0.42"
      ]
     },
     "execution_count": 18,
     "metadata": {},
     "output_type": "execute_result"
    }
   ],
   "source": [
    "cust_prob_ver_df = cus_prob_df.rename(columns={'prob_dm1':1 , 'prob_dm2':2, 'prob_dm3':3}).melt(id_vars=['customer_id'], value_vars=[1,2,3], var_name='dm', value_name='prob')\n",
    "cust_prob_ver_df.head()"
   ]
  },
  {
   "cell_type": "code",
   "execution_count": 19,
   "metadata": {},
   "outputs": [
    {
     "data": {
      "text/html": [
       "<div>\n",
       "<style scoped>\n",
       "    .dataframe tbody tr th:only-of-type {\n",
       "        vertical-align: middle;\n",
       "    }\n",
       "\n",
       "    .dataframe tbody tr th {\n",
       "        vertical-align: top;\n",
       "    }\n",
       "\n",
       "    .dataframe thead th {\n",
       "        text-align: right;\n",
       "    }\n",
       "</style>\n",
       "<table border=\"1\" class=\"dataframe\">\n",
       "  <thead>\n",
       "    <tr style=\"text-align: right;\">\n",
       "      <th></th>\n",
       "      <th>segment_id</th>\n",
       "      <th>dm</th>\n",
       "      <th>prob</th>\n",
       "    </tr>\n",
       "  </thead>\n",
       "  <tbody>\n",
       "    <tr>\n",
       "      <th>0</th>\n",
       "      <td>1</td>\n",
       "      <td>1</td>\n",
       "      <td>0.07</td>\n",
       "    </tr>\n",
       "    <tr>\n",
       "      <th>1</th>\n",
       "      <td>2</td>\n",
       "      <td>1</td>\n",
       "      <td>0.21</td>\n",
       "    </tr>\n",
       "    <tr>\n",
       "      <th>2</th>\n",
       "      <td>3</td>\n",
       "      <td>1</td>\n",
       "      <td>0.28</td>\n",
       "    </tr>\n",
       "    <tr>\n",
       "      <th>3</th>\n",
       "      <td>4</td>\n",
       "      <td>1</td>\n",
       "      <td>0.35</td>\n",
       "    </tr>\n",
       "    <tr>\n",
       "      <th>4</th>\n",
       "      <td>5</td>\n",
       "      <td>1</td>\n",
       "      <td>0.11</td>\n",
       "    </tr>\n",
       "  </tbody>\n",
       "</table>\n",
       "</div>"
      ],
      "text/plain": [
       "   segment_id dm  prob\n",
       "0           1  1  0.07\n",
       "1           2  1  0.21\n",
       "2           3  1  0.28\n",
       "3           4  1  0.35\n",
       "4           5  1  0.11"
      ]
     },
     "execution_count": 19,
     "metadata": {},
     "output_type": "execute_result"
    }
   ],
   "source": [
    "prob_ver_df = visit_prob_df.rename(columns={'prob_dm1':1 , 'prob_dm2':2, 'prob_dm3':3}).melt(id_vars=['segment_id'], value_vars=[1,2,3], var_name='dm', value_name='prob')\n",
    "prob_ver_df.head()"
   ]
  },
  {
   "cell_type": "code",
   "execution_count": 20,
   "metadata": {},
   "outputs": [
    {
     "data": {
      "text/plain": [
       "(48, 3)"
      ]
     },
     "execution_count": 20,
     "metadata": {},
     "output_type": "execute_result"
    }
   ],
   "source": [
    "prob_ver_df.shape"
   ]
  },
  {
   "cell_type": "code",
   "execution_count": 21,
   "metadata": {},
   "outputs": [
    {
     "data": {
      "text/plain": [
       "0.07"
      ]
     },
     "execution_count": 21,
     "metadata": {},
     "output_type": "execute_result"
    }
   ],
   "source": [
    "Psm = prob_ver_df.set_index(['segment_id', 'dm'])['prob'].to_dict()\n",
    "Psm[1,1]"
   ]
  },
  {
   "cell_type": "markdown",
   "metadata": {},
   "source": [
    "## Create Model\n",
    "\n",
    "- `LpProblem('name', sense=LpMinimize or LpMaximize)"
   ]
  },
  {
   "cell_type": "code",
   "execution_count": 22,
   "metadata": {},
   "outputs": [],
   "source": [
    "prob = pulp.LpProblem('DiscountCouponProblem3', pulp.LpMaximize)"
   ]
  },
  {
   "cell_type": "markdown",
   "metadata": {},
   "source": [
    "## Create Constraint"
   ]
  },
  {
   "cell_type": "code",
   "execution_count": 23,
   "metadata": {},
   "outputs": [],
   "source": [
    "# (2) 各セグメントに送るダイレクトメールはいずれか１つ/送付確率の合計が1\n",
    "for s in S:\n",
    "    prob += pulp.lpSum([xsm[s, m] for m in M]) == 1"
   ]
  },
  {
   "cell_type": "code",
   "execution_count": 24,
   "metadata": {},
   "outputs": [],
   "source": [
    "# クーポン金額\n",
    "Cm = { 1: 0, 2:1000, 3:2000}"
   ]
  },
  {
   "cell_type": "code",
   "execution_count": 25,
   "metadata": {},
   "outputs": [
    {
     "data": {
      "text/plain": [
       "{1: 200,\n",
       " 2: 150,\n",
       " 3: 50,\n",
       " 4: 100,\n",
       " 5: 600,\n",
       " 6: 450,\n",
       " 7: 150,\n",
       " 8: 300,\n",
       " 9: 800,\n",
       " 10: 600,\n",
       " 11: 200,\n",
       " 12: 400,\n",
       " 13: 400,\n",
       " 14: 300,\n",
       " 15: 100,\n",
       " 16: 200}"
      ]
     },
     "execution_count": 25,
     "metadata": {},
     "output_type": "execute_result"
    }
   ],
   "source": [
    "Ns = cus_prob_df.groupby(['segment_id'])['customer_id'].count().to_dict()\n",
    "Ns"
   ]
  },
  {
   "cell_type": "code",
   "execution_count": 26,
   "metadata": {},
   "outputs": [
    {
     "name": "stdout",
     "output_type": "stream",
     "text": [
      "5000\n"
     ]
    }
   ],
   "source": [
    "N = 0\n",
    "for key, val in Ns.items():\n",
    "    N += val\n",
    "print(N)"
   ]
  },
  {
   "cell_type": "code",
   "execution_count": 27,
   "metadata": {},
   "outputs": [],
   "source": [
    "# (4) 顧客の消費する費用の期待値の合計値は100万円以下\n",
    "prob += pulp.lpSum(xsm[s, m] * Cm[m] * Psm[s, m] * Ns[s] for s in S for m in [2,3]) <= 1000000"
   ]
  },
  {
   "cell_type": "code",
   "execution_count": 28,
   "metadata": {},
   "outputs": [],
   "source": [
    "# (5) セグメントに属する会員数の10%以上に送付\n",
    "for s in S:\n",
    "    for m in M:\n",
    "        prob += xsm[s,m] >= y"
   ]
  },
  {
   "cell_type": "markdown",
   "metadata": {},
   "source": [
    "## Create Target function"
   ]
  },
  {
   "cell_type": "code",
   "execution_count": 29,
   "metadata": {},
   "outputs": [],
   "source": [
    "# 送付率の下限値を最大化\n",
    "\n",
    "prob += y"
   ]
  },
  {
   "cell_type": "markdown",
   "metadata": {},
   "source": [
    "## Exec Solver\n",
    "\n",
    "- Default solver is CBC. You can use GLPK if installed."
   ]
  },
  {
   "cell_type": "code",
   "execution_count": 30,
   "metadata": {},
   "outputs": [
    {
     "name": "stdout",
     "output_type": "stream",
     "text": [
      "Welcome to the CBC MILP Solver \n",
      "Version: 2.10.3 \n",
      "Build Date: Dec 15 2019 \n",
      "\n",
      "command line - /home/norihito/workspace/optimization-problems/.venv/lib/python3.8/site-packages/pulp/apis/../solverdir/cbc/linux/64/cbc /tmp/288c46ce386f4a5596b3c3b2945492da-pulp.mps max timeMode elapsed branch printingOptions all solution /tmp/288c46ce386f4a5596b3c3b2945492da-pulp.sol (default strategy 1)\n",
      "At line 2 NAME          MODEL\n",
      "At line 3 ROWS\n",
      "At line 70 COLUMNS\n",
      "At line 248 RHS\n",
      "At line 314 BOUNDS\n",
      "At line 364 ENDATA\n",
      "Problem MODEL has 65 rows, 49 columns and 176 elements\n",
      "Coin0008I MODEL read with 0 errors\n",
      "Option for timeMode changed from cpu to elapsed\n",
      "Presolve 49 (-16) rows, 33 (-16) columns and 144 (-32) elements\n",
      "Perturbing problem by 0.001% of 0.62819912 - largest nonzero change 0.00094529304 ( 0.15047666%) - largest zero change 9.6171668e-05\n",
      "0  Obj -0 Dual inf 0.62725282 (1)\n",
      "31  Obj 0.13116342 Primal inf 0.17027776 (2)\n",
      "33  Obj 0.13040049\n",
      "Optimal - objective value 0.13125943\n",
      "After Postsolve, objective 0.13125943, infeasibilities - dual 0 (0), primal 0 (0)\n",
      "Optimal objective 0.1312594343 - 33 iterations time 0.002, Presolve 0.00\n",
      "Option for printingOptions changed from normal to all\n",
      "Total time (CPU seconds):       0.00   (Wallclock seconds):       0.05\n",
      "\n"
     ]
    }
   ],
   "source": [
    "time_start = time.time()\n",
    "status = prob.solve()\n",
    "time_stop = time.time()"
   ]
  },
  {
   "cell_type": "markdown",
   "metadata": {},
   "source": [
    "## Check status\n",
    "\n",
    "- You can check the status by `LpStatus` which shows \n",
    "    {0: 'Not Solved', 1: 'Optimal', -1:'Infeasible', -2: 'Unbounded', -3: 'Undefined'}"
   ]
  },
  {
   "cell_type": "code",
   "execution_count": 31,
   "metadata": {},
   "outputs": [
    {
     "data": {
      "text/plain": [
       "{0: 'Not Solved',\n",
       " 1: 'Optimal',\n",
       " -1: 'Infeasible',\n",
       " -2: 'Unbounded',\n",
       " -3: 'Undefined'}"
      ]
     },
     "execution_count": 31,
     "metadata": {},
     "output_type": "execute_result"
    }
   ],
   "source": [
    "pulp.LpStatus"
   ]
  },
  {
   "cell_type": "code",
   "execution_count": 32,
   "metadata": {},
   "outputs": [
    {
     "data": {
      "text/plain": [
       "'Optimal'"
      ]
     },
     "execution_count": 32,
     "metadata": {},
     "output_type": "execute_result"
    }
   ],
   "source": [
    "pulp.LpStatus[prob.status]\n",
    "# pulp.LpStatus[status]"
   ]
  },
  {
   "cell_type": "markdown",
   "metadata": {},
   "source": [
    "## Result "
   ]
  },
  {
   "cell_type": "code",
   "execution_count": 33,
   "metadata": {},
   "outputs": [
    {
     "name": "stdout",
     "output_type": "stream",
     "text": [
      "目的関数値: 0.1313\n",
      "計算時間:0.344(秒)\n"
     ]
    }
   ],
   "source": [
    "print(f'目的関数値: {prob.objective.value():.4}')\n",
    "print(f'計算時間:{(time_stop-time_start):.3}(秒)')"
   ]
  },
  {
   "cell_type": "markdown",
   "metadata": {},
   "source": [
    "## Verification"
   ]
  },
  {
   "cell_type": "code",
   "execution_count": 34,
   "metadata": {},
   "outputs": [
    {
     "data": {
      "text/html": [
       "<div>\n",
       "<style scoped>\n",
       "    .dataframe tbody tr th:only-of-type {\n",
       "        vertical-align: middle;\n",
       "    }\n",
       "\n",
       "    .dataframe tbody tr th {\n",
       "        vertical-align: top;\n",
       "    }\n",
       "\n",
       "    .dataframe thead th {\n",
       "        text-align: right;\n",
       "    }\n",
       "</style>\n",
       "<table border=\"1\" class=\"dataframe\">\n",
       "  <thead>\n",
       "    <tr style=\"text-align: right;\">\n",
       "      <th></th>\n",
       "      <th>send_prob_dm1</th>\n",
       "      <th>send_prob_dm2</th>\n",
       "      <th>send_prob_dm3</th>\n",
       "    </tr>\n",
       "  </thead>\n",
       "  <tbody>\n",
       "    <tr>\n",
       "      <th>0</th>\n",
       "      <td>0.737481</td>\n",
       "      <td>0.131259</td>\n",
       "      <td>0.131259</td>\n",
       "    </tr>\n",
       "    <tr>\n",
       "      <th>1</th>\n",
       "      <td>0.737481</td>\n",
       "      <td>0.131259</td>\n",
       "      <td>0.131259</td>\n",
       "    </tr>\n",
       "    <tr>\n",
       "      <th>2</th>\n",
       "      <td>0.737481</td>\n",
       "      <td>0.131259</td>\n",
       "      <td>0.131259</td>\n",
       "    </tr>\n",
       "    <tr>\n",
       "      <th>3</th>\n",
       "      <td>0.737481</td>\n",
       "      <td>0.131259</td>\n",
       "      <td>0.131259</td>\n",
       "    </tr>\n",
       "    <tr>\n",
       "      <th>4</th>\n",
       "      <td>0.737481</td>\n",
       "      <td>0.131259</td>\n",
       "      <td>0.131259</td>\n",
       "    </tr>\n",
       "    <tr>\n",
       "      <th>5</th>\n",
       "      <td>0.737481</td>\n",
       "      <td>0.131259</td>\n",
       "      <td>0.131259</td>\n",
       "    </tr>\n",
       "    <tr>\n",
       "      <th>6</th>\n",
       "      <td>0.737481</td>\n",
       "      <td>0.131259</td>\n",
       "      <td>0.131259</td>\n",
       "    </tr>\n",
       "    <tr>\n",
       "      <th>7</th>\n",
       "      <td>0.737481</td>\n",
       "      <td>0.131259</td>\n",
       "      <td>0.131259</td>\n",
       "    </tr>\n",
       "    <tr>\n",
       "      <th>8</th>\n",
       "      <td>0.737481</td>\n",
       "      <td>0.131259</td>\n",
       "      <td>0.131259</td>\n",
       "    </tr>\n",
       "    <tr>\n",
       "      <th>9</th>\n",
       "      <td>0.737481</td>\n",
       "      <td>0.131259</td>\n",
       "      <td>0.131259</td>\n",
       "    </tr>\n",
       "    <tr>\n",
       "      <th>10</th>\n",
       "      <td>0.737481</td>\n",
       "      <td>0.131259</td>\n",
       "      <td>0.131259</td>\n",
       "    </tr>\n",
       "    <tr>\n",
       "      <th>11</th>\n",
       "      <td>0.737481</td>\n",
       "      <td>0.131259</td>\n",
       "      <td>0.131259</td>\n",
       "    </tr>\n",
       "    <tr>\n",
       "      <th>12</th>\n",
       "      <td>0.737481</td>\n",
       "      <td>0.131259</td>\n",
       "      <td>0.131259</td>\n",
       "    </tr>\n",
       "    <tr>\n",
       "      <th>13</th>\n",
       "      <td>0.737481</td>\n",
       "      <td>0.131259</td>\n",
       "      <td>0.131259</td>\n",
       "    </tr>\n",
       "    <tr>\n",
       "      <th>14</th>\n",
       "      <td>0.737481</td>\n",
       "      <td>0.131259</td>\n",
       "      <td>0.131259</td>\n",
       "    </tr>\n",
       "    <tr>\n",
       "      <th>15</th>\n",
       "      <td>0.737481</td>\n",
       "      <td>0.131259</td>\n",
       "      <td>0.131259</td>\n",
       "    </tr>\n",
       "  </tbody>\n",
       "</table>\n",
       "</div>"
      ],
      "text/plain": [
       "    send_prob_dm1  send_prob_dm2  send_prob_dm3\n",
       "0        0.737481       0.131259       0.131259\n",
       "1        0.737481       0.131259       0.131259\n",
       "2        0.737481       0.131259       0.131259\n",
       "3        0.737481       0.131259       0.131259\n",
       "4        0.737481       0.131259       0.131259\n",
       "5        0.737481       0.131259       0.131259\n",
       "6        0.737481       0.131259       0.131259\n",
       "7        0.737481       0.131259       0.131259\n",
       "8        0.737481       0.131259       0.131259\n",
       "9        0.737481       0.131259       0.131259\n",
       "10       0.737481       0.131259       0.131259\n",
       "11       0.737481       0.131259       0.131259\n",
       "12       0.737481       0.131259       0.131259\n",
       "13       0.737481       0.131259       0.131259\n",
       "14       0.737481       0.131259       0.131259\n",
       "15       0.737481       0.131259       0.131259"
      ]
     },
     "execution_count": 34,
     "metadata": {},
     "output_type": "execute_result"
    }
   ],
   "source": [
    "send_dm_df = pd.DataFrame([[xsm[s,m].value() for m in M] for s in S], columns=['send_prob_dm1', 'send_prob_dm2', 'send_prob_dm3'])\n",
    "send_dm_df"
   ]
  },
  {
   "cell_type": "code",
   "execution_count": 35,
   "metadata": {},
   "outputs": [
    {
     "data": {
      "text/html": [
       "<div>\n",
       "<style scoped>\n",
       "    .dataframe tbody tr th:only-of-type {\n",
       "        vertical-align: middle;\n",
       "    }\n",
       "\n",
       "    .dataframe tbody tr th {\n",
       "        vertical-align: top;\n",
       "    }\n",
       "\n",
       "    .dataframe thead th {\n",
       "        text-align: right;\n",
       "    }\n",
       "</style>\n",
       "<table border=\"1\" class=\"dataframe\">\n",
       "  <thead>\n",
       "    <tr style=\"text-align: right;\">\n",
       "      <th></th>\n",
       "      <th>segment_id</th>\n",
       "      <th>age_cat</th>\n",
       "      <th>freq_cat</th>\n",
       "      <th>send_prob_dm1</th>\n",
       "      <th>send_prob_dm2</th>\n",
       "      <th>send_prob_dm3</th>\n",
       "    </tr>\n",
       "  </thead>\n",
       "  <tbody>\n",
       "    <tr>\n",
       "      <th>0</th>\n",
       "      <td>1</td>\n",
       "      <td>age~19</td>\n",
       "      <td>freq0</td>\n",
       "      <td>0.737481</td>\n",
       "      <td>0.131259</td>\n",
       "      <td>0.131259</td>\n",
       "    </tr>\n",
       "    <tr>\n",
       "      <th>1</th>\n",
       "      <td>2</td>\n",
       "      <td>age~19</td>\n",
       "      <td>freq1</td>\n",
       "      <td>0.737481</td>\n",
       "      <td>0.131259</td>\n",
       "      <td>0.131259</td>\n",
       "    </tr>\n",
       "    <tr>\n",
       "      <th>2</th>\n",
       "      <td>3</td>\n",
       "      <td>age~19</td>\n",
       "      <td>freq2</td>\n",
       "      <td>0.737481</td>\n",
       "      <td>0.131259</td>\n",
       "      <td>0.131259</td>\n",
       "    </tr>\n",
       "    <tr>\n",
       "      <th>3</th>\n",
       "      <td>4</td>\n",
       "      <td>age~19</td>\n",
       "      <td>freq3~</td>\n",
       "      <td>0.737481</td>\n",
       "      <td>0.131259</td>\n",
       "      <td>0.131259</td>\n",
       "    </tr>\n",
       "    <tr>\n",
       "      <th>4</th>\n",
       "      <td>5</td>\n",
       "      <td>age20~34</td>\n",
       "      <td>freq0</td>\n",
       "      <td>0.737481</td>\n",
       "      <td>0.131259</td>\n",
       "      <td>0.131259</td>\n",
       "    </tr>\n",
       "    <tr>\n",
       "      <th>5</th>\n",
       "      <td>6</td>\n",
       "      <td>age20~34</td>\n",
       "      <td>freq1</td>\n",
       "      <td>0.737481</td>\n",
       "      <td>0.131259</td>\n",
       "      <td>0.131259</td>\n",
       "    </tr>\n",
       "    <tr>\n",
       "      <th>6</th>\n",
       "      <td>7</td>\n",
       "      <td>age20~34</td>\n",
       "      <td>freq2</td>\n",
       "      <td>0.737481</td>\n",
       "      <td>0.131259</td>\n",
       "      <td>0.131259</td>\n",
       "    </tr>\n",
       "    <tr>\n",
       "      <th>7</th>\n",
       "      <td>8</td>\n",
       "      <td>age20~34</td>\n",
       "      <td>freq3~</td>\n",
       "      <td>0.737481</td>\n",
       "      <td>0.131259</td>\n",
       "      <td>0.131259</td>\n",
       "    </tr>\n",
       "    <tr>\n",
       "      <th>8</th>\n",
       "      <td>9</td>\n",
       "      <td>age35~49</td>\n",
       "      <td>freq0</td>\n",
       "      <td>0.737481</td>\n",
       "      <td>0.131259</td>\n",
       "      <td>0.131259</td>\n",
       "    </tr>\n",
       "    <tr>\n",
       "      <th>9</th>\n",
       "      <td>10</td>\n",
       "      <td>age35~49</td>\n",
       "      <td>freq1</td>\n",
       "      <td>0.737481</td>\n",
       "      <td>0.131259</td>\n",
       "      <td>0.131259</td>\n",
       "    </tr>\n",
       "    <tr>\n",
       "      <th>10</th>\n",
       "      <td>11</td>\n",
       "      <td>age35~49</td>\n",
       "      <td>freq2</td>\n",
       "      <td>0.737481</td>\n",
       "      <td>0.131259</td>\n",
       "      <td>0.131259</td>\n",
       "    </tr>\n",
       "    <tr>\n",
       "      <th>11</th>\n",
       "      <td>12</td>\n",
       "      <td>age35~49</td>\n",
       "      <td>freq3~</td>\n",
       "      <td>0.737481</td>\n",
       "      <td>0.131259</td>\n",
       "      <td>0.131259</td>\n",
       "    </tr>\n",
       "    <tr>\n",
       "      <th>12</th>\n",
       "      <td>13</td>\n",
       "      <td>age50~</td>\n",
       "      <td>freq0</td>\n",
       "      <td>0.737481</td>\n",
       "      <td>0.131259</td>\n",
       "      <td>0.131259</td>\n",
       "    </tr>\n",
       "    <tr>\n",
       "      <th>13</th>\n",
       "      <td>14</td>\n",
       "      <td>age50~</td>\n",
       "      <td>freq1</td>\n",
       "      <td>0.737481</td>\n",
       "      <td>0.131259</td>\n",
       "      <td>0.131259</td>\n",
       "    </tr>\n",
       "    <tr>\n",
       "      <th>14</th>\n",
       "      <td>15</td>\n",
       "      <td>age50~</td>\n",
       "      <td>freq2</td>\n",
       "      <td>0.737481</td>\n",
       "      <td>0.131259</td>\n",
       "      <td>0.131259</td>\n",
       "    </tr>\n",
       "    <tr>\n",
       "      <th>15</th>\n",
       "      <td>16</td>\n",
       "      <td>age50~</td>\n",
       "      <td>freq3~</td>\n",
       "      <td>0.737481</td>\n",
       "      <td>0.131259</td>\n",
       "      <td>0.131259</td>\n",
       "    </tr>\n",
       "  </tbody>\n",
       "</table>\n",
       "</div>"
      ],
      "text/plain": [
       "    segment_id   age_cat freq_cat  send_prob_dm1  send_prob_dm2  send_prob_dm3\n",
       "0            1    age~19    freq0       0.737481       0.131259       0.131259\n",
       "1            2    age~19    freq1       0.737481       0.131259       0.131259\n",
       "2            3    age~19    freq2       0.737481       0.131259       0.131259\n",
       "3            4    age~19   freq3~       0.737481       0.131259       0.131259\n",
       "4            5  age20~34    freq0       0.737481       0.131259       0.131259\n",
       "5            6  age20~34    freq1       0.737481       0.131259       0.131259\n",
       "6            7  age20~34    freq2       0.737481       0.131259       0.131259\n",
       "7            8  age20~34   freq3~       0.737481       0.131259       0.131259\n",
       "8            9  age35~49    freq0       0.737481       0.131259       0.131259\n",
       "9           10  age35~49    freq1       0.737481       0.131259       0.131259\n",
       "10          11  age35~49    freq2       0.737481       0.131259       0.131259\n",
       "11          12  age35~49   freq3~       0.737481       0.131259       0.131259\n",
       "12          13    age50~    freq0       0.737481       0.131259       0.131259\n",
       "13          14    age50~    freq1       0.737481       0.131259       0.131259\n",
       "14          15    age50~    freq2       0.737481       0.131259       0.131259\n",
       "15          16    age50~   freq3~       0.737481       0.131259       0.131259"
      ]
     },
     "execution_count": 35,
     "metadata": {},
     "output_type": "execute_result"
    }
   ],
   "source": [
    "seg_send_df = pd.concat([visit_prob_df[['segment_id', 'age_cat', 'freq_cat']], send_dm_df], axis=1)\n",
    "seg_send_df"
   ]
  },
  {
   "cell_type": "code",
   "execution_count": 36,
   "metadata": {},
   "outputs": [
    {
     "data": {
      "image/png": "[encoded data removed]",
      "text/plain": [
       "<Figure size 1440x216 with 6 Axes>"
      ]
     },
     "metadata": {
      "needs_background": "light"
     },
     "output_type": "display_data"
    }
   ],
   "source": [
    "fig, axes = plt.subplots(1,3, figsize=(20,3))\n",
    "for i, ptn in enumerate(['send_prob_dm1', 'send_prob_dm2', 'send_prob_dm3']):\n",
    "    seg_send_pivot_df = pd.pivot_table(seg_send_df, ptn, index='age_cat', columns=['freq_cat'], aggfunc='mean')\n",
    "    sns.heatmap(seg_send_pivot_df, annot=True, fmt='.1%', cmap='Blues', ax=axes[i], vmin=0, vmax=1)\n",
    "    axes[i].set_title(f'{ptn}')\n",
    "plt.show()"
   ]
  },
  {
   "cell_type": "code",
   "execution_count": 37,
   "metadata": {},
   "outputs": [
    {
     "data": {
      "text/html": [
       "<div>\n",
       "<style scoped>\n",
       "    .dataframe tbody tr th:only-of-type {\n",
       "        vertical-align: middle;\n",
       "    }\n",
       "\n",
       "    .dataframe tbody tr th {\n",
       "        vertical-align: top;\n",
       "    }\n",
       "\n",
       "    .dataframe thead th {\n",
       "        text-align: right;\n",
       "    }\n",
       "</style>\n",
       "<table border=\"1\" class=\"dataframe\">\n",
       "  <thead>\n",
       "    <tr style=\"text-align: right;\">\n",
       "      <th></th>\n",
       "      <th>segment_id</th>\n",
       "      <th>age_cat</th>\n",
       "      <th>freq_cat</th>\n",
       "      <th>send_prob_dm1</th>\n",
       "      <th>send_prob_dm2</th>\n",
       "      <th>send_prob_dm3</th>\n",
       "      <th>num_cust</th>\n",
       "      <th>send_num_dm1</th>\n",
       "      <th>send_num_dm2</th>\n",
       "      <th>send_num_dm3</th>\n",
       "    </tr>\n",
       "  </thead>\n",
       "  <tbody>\n",
       "    <tr>\n",
       "      <th>0</th>\n",
       "      <td>1</td>\n",
       "      <td>age~19</td>\n",
       "      <td>freq0</td>\n",
       "      <td>0.737481</td>\n",
       "      <td>0.131259</td>\n",
       "      <td>0.131259</td>\n",
       "      <td>200</td>\n",
       "      <td>147.496226</td>\n",
       "      <td>26.251886</td>\n",
       "      <td>26.251886</td>\n",
       "    </tr>\n",
       "    <tr>\n",
       "      <th>1</th>\n",
       "      <td>2</td>\n",
       "      <td>age~19</td>\n",
       "      <td>freq1</td>\n",
       "      <td>0.737481</td>\n",
       "      <td>0.131259</td>\n",
       "      <td>0.131259</td>\n",
       "      <td>150</td>\n",
       "      <td>110.622170</td>\n",
       "      <td>19.688915</td>\n",
       "      <td>19.688915</td>\n",
       "    </tr>\n",
       "    <tr>\n",
       "      <th>2</th>\n",
       "      <td>3</td>\n",
       "      <td>age~19</td>\n",
       "      <td>freq2</td>\n",
       "      <td>0.737481</td>\n",
       "      <td>0.131259</td>\n",
       "      <td>0.131259</td>\n",
       "      <td>50</td>\n",
       "      <td>36.874057</td>\n",
       "      <td>6.562972</td>\n",
       "      <td>6.562972</td>\n",
       "    </tr>\n",
       "    <tr>\n",
       "      <th>3</th>\n",
       "      <td>4</td>\n",
       "      <td>age~19</td>\n",
       "      <td>freq3~</td>\n",
       "      <td>0.737481</td>\n",
       "      <td>0.131259</td>\n",
       "      <td>0.131259</td>\n",
       "      <td>100</td>\n",
       "      <td>73.748113</td>\n",
       "      <td>13.125943</td>\n",
       "      <td>13.125943</td>\n",
       "    </tr>\n",
       "    <tr>\n",
       "      <th>4</th>\n",
       "      <td>5</td>\n",
       "      <td>age20~34</td>\n",
       "      <td>freq0</td>\n",
       "      <td>0.737481</td>\n",
       "      <td>0.131259</td>\n",
       "      <td>0.131259</td>\n",
       "      <td>600</td>\n",
       "      <td>442.488678</td>\n",
       "      <td>78.755658</td>\n",
       "      <td>78.755658</td>\n",
       "    </tr>\n",
       "  </tbody>\n",
       "</table>\n",
       "</div>"
      ],
      "text/plain": [
       "   segment_id   age_cat freq_cat  send_prob_dm1  send_prob_dm2  send_prob_dm3  \\\n",
       "0           1    age~19    freq0       0.737481       0.131259       0.131259   \n",
       "1           2    age~19    freq1       0.737481       0.131259       0.131259   \n",
       "2           3    age~19    freq2       0.737481       0.131259       0.131259   \n",
       "3           4    age~19   freq3~       0.737481       0.131259       0.131259   \n",
       "4           5  age20~34    freq0       0.737481       0.131259       0.131259   \n",
       "\n",
       "   num_cust  send_num_dm1  send_num_dm2  send_num_dm3  \n",
       "0       200    147.496226     26.251886     26.251886  \n",
       "1       150    110.622170     19.688915     19.688915  \n",
       "2        50     36.874057      6.562972      6.562972  \n",
       "3       100     73.748113     13.125943     13.125943  \n",
       "4       600    442.488678     78.755658     78.755658  "
      ]
     },
     "execution_count": 37,
     "metadata": {},
     "output_type": "execute_result"
    }
   ],
   "source": [
    "seg_send_df['num_cust'] = seg_send_df['segment_id'].apply(lambda x: Ns[x])\n",
    "seg_send_df['send_num_dm1'] = seg_send_df['num_cust'] * seg_send_df['send_prob_dm1']\n",
    "seg_send_df['send_num_dm2'] = seg_send_df['num_cust'] * seg_send_df['send_prob_dm2']\n",
    "seg_send_df['send_num_dm3'] = seg_send_df['num_cust'] * seg_send_df['send_prob_dm3']\n",
    "seg_send_df.head()"
   ]
  },
  {
   "cell_type": "code",
   "execution_count": 38,
   "metadata": {},
   "outputs": [
    {
     "data": {
      "image/png": "[encoded data removed]",
      "text/plain": [
       "<Figure size 1440x216 with 6 Axes>"
      ]
     },
     "metadata": {
      "needs_background": "light"
     },
     "output_type": "display_data"
    }
   ],
   "source": [
    "fig, axes = plt.subplots(1,3,figsize=(20,3))\n",
    "for i, ptn in enumerate(['send_num_dm1', 'send_num_dm2', 'send_num_dm3']):\n",
    "    seg_send_pivot_df = pd.pivot_table(seg_send_df, values=ptn, index='age_cat', columns=['freq_cat'])\n",
    "    sns.heatmap(seg_send_pivot_df, vmin=0, vmax=800, cmap='Blues', ax=axes[i], fmt='.1f', annot=True)\n",
    "    axes[i].set_title(f'{ptn}')\n",
    "plt.show()"
   ]
  },
  {
   "cell_type": "code",
   "execution_count": null,
   "metadata": {},
   "outputs": [],
   "source": []
  }
 ],
 "metadata": {
  "interpreter": {
   "hash": "eabf070393549315606633e3817ad0aa895c4224591cc307069b0649dd07be33"
  },
  "kernelspec": {
   "display_name": "Python 3.8.10 64-bit ('.venv': pipenv)",
   "language": "python",
   "name": "python3"
  },
  "language_info": {
   "codemirror_mode": {
    "name": "ipython",
    "version": 3
   },
   "file_extension": ".py",
   "mimetype": "text/x-python",
   "name": "python",
   "nbconvert_exporter": "python",
   "pygments_lexer": "ipython3",
   "version": "3.8.10"
  },
  "orig_nbformat": 4
 },
 "nbformat": 4,
 "nbformat_minor": 2
}
