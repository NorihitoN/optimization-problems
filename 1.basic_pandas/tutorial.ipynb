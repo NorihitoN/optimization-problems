{
 "cells": [
  {
   "cell_type": "markdown",
   "metadata": {},
   "source": [
    "## Import PuLP package"
   ]
  },
  {
   "cell_type": "code",
   "execution_count": 3,
   "metadata": {},
   "outputs": [],
   "source": [
    "import pulp\n",
    "import pandas as pd"
   ]
  },
  {
   "cell_type": "code",
   "execution_count": 2,
   "metadata": {},
   "outputs": [],
   "source": [
    "# pulp.pulpTestAll()"
   ]
  },
  {
   "cell_type": "markdown",
   "metadata": {},
   "source": [
    "## Define Constant"
   ]
  },
  {
   "cell_type": "markdown",
   "metadata": {},
   "source": [
    "ある工場ではp1, p2, p3, p4を製造している。\n",
    "製品p1,p2,p3,p4には、原料m1,m2,m3の3種類が必要。\n",
    "必要するは、require.csvのrequire列に記載。\n",
    "\n",
    "- requires.csv   :各製品において必要な原料の量\n",
    "- stocks.csv     :原料の在庫量\n",
    "- gains.csv     :製品を生産した際の利得"
   ]
  },
  {
   "cell_type": "code",
   "execution_count": 7,
   "metadata": {},
   "outputs": [],
   "source": [
    "require_df = pd.read_csv('requires.csv')\n",
    "stock_df = pd.read_csv('stocks.csv')\n",
    "gain_df = pd.read_csv('gains.csv')"
   ]
  },
  {
   "cell_type": "code",
   "execution_count": 10,
   "metadata": {},
   "outputs": [],
   "source": [
    "products = gain_df['p'].to_list()\n",
    "materials = stock_df['m'].to_list()"
   ]
  },
  {
   "cell_type": "code",
   "execution_count": 20,
   "metadata": {},
   "outputs": [
    {
     "data": {
      "text/plain": [
       "{'m1': 35, 'm2': 22, 'm3': 27}"
      ]
     },
     "execution_count": 20,
     "metadata": {},
     "output_type": "execute_result"
    }
   ],
   "source": [
    "stock = { row.m:row.stock for row in stock_df.itertuples()}\n",
    "stock\n",
    "# dict(zip(stock_df['m'], stock_df['stock']))"
   ]
  },
  {
   "cell_type": "code",
   "execution_count": 21,
   "metadata": {},
   "outputs": [
    {
     "data": {
      "text/plain": [
       "{'p1': 3, 'p2': 4, 'p3': 4, 'p4': 5}"
      ]
     },
     "execution_count": 21,
     "metadata": {},
     "output_type": "execute_result"
    }
   ],
   "source": [
    "gain = { row.p:row.gain for row in gain_df.itertuples()}\n",
    "gain"
   ]
  },
  {
   "cell_type": "code",
   "execution_count": 22,
   "metadata": {},
   "outputs": [
    {
     "data": {
      "text/plain": [
       "{('p1', 'm1'): 2,\n",
       " ('p1', 'm2'): 0,\n",
       " ('p1', 'm3'): 1,\n",
       " ('p2', 'm1'): 3,\n",
       " ('p2', 'm2'): 2,\n",
       " ('p2', 'm3'): 0,\n",
       " ('p3', 'm1'): 0,\n",
       " ('p3', 'm2'): 2,\n",
       " ('p3', 'm3'): 2,\n",
       " ('p4', 'm1'): 2,\n",
       " ('p4', 'm2'): 2,\n",
       " ('p4', 'm3'): 2}"
      ]
     },
     "execution_count": 22,
     "metadata": {},
     "output_type": "execute_result"
    }
   ],
   "source": [
    "require = {(row.p, row.m):row.require for row in require_df.itertuples()}\n",
    "require"
   ]
  },
  {
   "cell_type": "markdown",
   "metadata": {},
   "source": [
    "## Create Variable"
   ]
  },
  {
   "cell_type": "markdown",
   "metadata": {},
   "source": [
    "変数x_pは製品pの生産量。"
   ]
  },
  {
   "cell_type": "code",
   "execution_count": 32,
   "metadata": {},
   "outputs": [
    {
     "data": {
      "text/plain": [
       "{'p1': x_p1, 'p2': x_p2, 'p3': x_p3, 'p4': x_p4}"
      ]
     },
     "execution_count": 32,
     "metadata": {},
     "output_type": "execute_result"
    }
   ],
   "source": [
    "# 線形計画問題の場合 Continuous\n",
    "# 整数計画問題の場合 Integer\n",
    "x = pulp.LpVariable.dicts('x', products, cat='Integer')\n",
    "x\n",
    "# x = {}\n",
    "# for p in products:\n",
    "#     x[p] = pulp.LpVariable(f'x_{p}', cat='Continuous')"
   ]
  },
  {
   "cell_type": "markdown",
   "metadata": {},
   "source": [
    "## Create Model\n",
    "\n",
    "- `LpProblem('name', sense=LpMinimize or LpMaximize)"
   ]
  },
  {
   "cell_type": "code",
   "execution_count": 33,
   "metadata": {},
   "outputs": [],
   "source": [
    "prob = pulp.LpProblem('LP2', pulp.LpMaximize)"
   ]
  },
  {
   "cell_type": "markdown",
   "metadata": {},
   "source": [
    "## Create Constraint"
   ]
  },
  {
   "cell_type": "code",
   "execution_count": 34,
   "metadata": {},
   "outputs": [],
   "source": [
    "# すべての変数が0以上\n",
    "for p in products:\n",
    "    prob += x[p] >= 0\n",
    "\n",
    "# 生産に使用した原料が在庫以下\n",
    "for m in materials:\n",
    "    prob += pulp.lpSum([require[p,m] * x[p] for p in products]) <= stock[m]"
   ]
  },
  {
   "cell_type": "markdown",
   "metadata": {},
   "source": [
    "## Create Target function"
   ]
  },
  {
   "cell_type": "code",
   "execution_count": 35,
   "metadata": {},
   "outputs": [],
   "source": [
    "prob += pulp.lpSum([gain[p] * x[p] for p in products])"
   ]
  },
  {
   "cell_type": "markdown",
   "metadata": {},
   "source": [
    "## Exec Solver\n",
    "\n",
    "- Default solver is CBC. You can use GLPK if installed."
   ]
  },
  {
   "cell_type": "code",
   "execution_count": 36,
   "metadata": {},
   "outputs": [
    {
     "name": "stdout",
     "output_type": "stream",
     "text": [
      "Welcome to the CBC MILP Solver \n",
      "Version: 2.10.3 \n",
      "Build Date: Dec 15 2019 \n",
      "\n",
      "command line - /home/norihito/workspace/optimization-problems/.venv/lib/python3.8/site-packages/pulp/apis/../solverdir/cbc/linux/64/cbc /tmp/01b8bdae75a845ae9a9b8982a9cfa2b9-pulp.mps max timeMode elapsed branch printingOptions all solution /tmp/01b8bdae75a845ae9a9b8982a9cfa2b9-pulp.sol (default strategy 1)\n",
      "At line 2 NAME          MODEL\n",
      "At line 3 ROWS\n",
      "At line 12 COLUMNS\n",
      "At line 38 RHS\n",
      "At line 46 BOUNDS\n",
      "At line 51 ENDATA\n",
      "Problem MODEL has 7 rows, 4 columns and 13 elements\n",
      "Coin0008I MODEL read with 0 errors\n",
      "Option for timeMode changed from cpu to elapsed\n",
      "Continuous objective value is 80.4286 - 0.00 seconds\n",
      "Cgl0004I processed model has 3 rows, 4 columns (4 integer (0 of which binary)) and 9 elements\n",
      "Cutoff increment increased from 1e-05 to 0.9999\n",
      "Cbc0012I Integer solution of -76 found by DiveCoefficient after 0 iterations and 0 nodes (0.03 seconds)\n",
      "Cbc0038I Full problem 3 rows 4 columns, reduced to 3 rows 3 columns\n",
      "Cbc0012I Integer solution of -79 found by DiveCoefficient after 1 iterations and 0 nodes (0.03 seconds)\n",
      "Cbc0031I 1 added rows had average density of 4\n",
      "Cbc0013I At root node, 1 cuts changed objective from -80.428571 to -79 in 2 passes\n",
      "Cbc0014I Cut generator 0 (Probing) - 0 row cuts average 0.0 elements, 0 column cuts (0 active)  in 0.000 seconds - new frequency is -100\n",
      "Cbc0014I Cut generator 1 (Gomory) - 2 row cuts average 4.0 elements, 0 column cuts (0 active)  in 0.000 seconds - new frequency is 1\n",
      "Cbc0014I Cut generator 2 (Knapsack) - 0 row cuts average 0.0 elements, 0 column cuts (0 active)  in 0.000 seconds - new frequency is -100\n",
      "Cbc0014I Cut generator 3 (Clique) - 0 row cuts average 0.0 elements, 0 column cuts (0 active)  in 0.000 seconds - new frequency is -100\n",
      "Cbc0014I Cut generator 4 (MixedIntegerRounding2) - 0 row cuts average 0.0 elements, 0 column cuts (0 active)  in 0.000 seconds - new frequency is -100\n",
      "Cbc0014I Cut generator 5 (FlowCover) - 0 row cuts average 0.0 elements, 0 column cuts (0 active)  in 0.000 seconds - new frequency is -100\n",
      "Cbc0001I Search completed - best objective -79, took 1 iterations and 0 nodes (0.03 seconds)\n",
      "Cbc0035I Maximum depth 0, 0 variables fixed on reduced cost\n",
      "Cuts at root node changed objective from -80.4286 to -79\n",
      "Probing was tried 2 times and created 0 cuts of which 0 were active after adding rounds of cuts (0.000 seconds)\n",
      "Gomory was tried 2 times and created 2 cuts of which 0 were active after adding rounds of cuts (0.000 seconds)\n",
      "Knapsack was tried 2 times and created 0 cuts of which 0 were active after adding rounds of cuts (0.000 seconds)\n",
      "Clique was tried 2 times and created 0 cuts of which 0 were active after adding rounds of cuts (0.000 seconds)\n",
      "MixedIntegerRounding2 was tried 2 times and created 0 cuts of which 0 were active after adding rounds of cuts (0.000 seconds)\n",
      "FlowCover was tried 2 times and created 0 cuts of which 0 were active after adding rounds of cuts (0.000 seconds)\n",
      "TwoMirCuts was tried 1 times and created 0 cuts of which 0 were active after adding rounds of cuts (0.000 seconds)\n",
      "ZeroHalf was tried 1 times and created 0 cuts of which 0 were active after adding rounds of cuts (0.000 seconds)\n",
      "\n",
      "Result - Optimal solution found\n",
      "\n",
      "Objective value:                79.00000000\n",
      "Enumerated nodes:               0\n",
      "Total iterations:               1\n",
      "Time (CPU seconds):             0.01\n",
      "Time (Wallclock seconds):       0.03\n",
      "\n",
      "Option for printingOptions changed from normal to all\n",
      "Total time (CPU seconds):       0.01   (Wallclock seconds):       0.08\n",
      "\n"
     ]
    }
   ],
   "source": [
    "status = prob.solve()"
   ]
  },
  {
   "cell_type": "markdown",
   "metadata": {},
   "source": [
    "## Check status\n",
    "\n",
    "- You can check the status by `LpStatus` which shows \n",
    "    {0: 'Not Solved', 1: 'Optimal', -1:'Infeasible', -2: 'Unbounded', -3: 'Undefined'}"
   ]
  },
  {
   "cell_type": "code",
   "execution_count": 37,
   "metadata": {},
   "outputs": [
    {
     "data": {
      "text/plain": [
       "{0: 'Not Solved',\n",
       " 1: 'Optimal',\n",
       " -1: 'Infeasible',\n",
       " -2: 'Unbounded',\n",
       " -3: 'Undefined'}"
      ]
     },
     "execution_count": 37,
     "metadata": {},
     "output_type": "execute_result"
    }
   ],
   "source": [
    "pulp.LpStatus"
   ]
  },
  {
   "cell_type": "code",
   "execution_count": 38,
   "metadata": {},
   "outputs": [
    {
     "data": {
      "text/plain": [
       "'Optimal'"
      ]
     },
     "execution_count": 38,
     "metadata": {},
     "output_type": "execute_result"
    }
   ],
   "source": [
    "pulp.LpStatus[prob.status]\n",
    "# pulp.LpStatus[status]"
   ]
  },
  {
   "cell_type": "markdown",
   "metadata": {},
   "source": [
    "## Result "
   ]
  },
  {
   "cell_type": "code",
   "execution_count": 39,
   "metadata": {},
   "outputs": [
    {
     "name": "stdout",
     "output_type": "stream",
     "text": [
      "p1 = 13.0\n",
      "p2 = 3.0\n",
      "p3 = 7.0\n",
      "p4 = -0.0\n",
      "obj= 79.0\n"
     ]
    }
   ],
   "source": [
    "for p in products:\n",
    "    print(p, '=', x[p].value())\n",
    "print('obj=', prob.objective.value())"
   ]
  }
 ],
 "metadata": {
  "interpreter": {
   "hash": "eabf070393549315606633e3817ad0aa895c4224591cc307069b0649dd07be33"
  },
  "kernelspec": {
   "display_name": "Python 3.8.10 64-bit ('.venv': pipenv)",
   "language": "python",
   "name": "python3"
  },
  "language_info": {
   "codemirror_mode": {
    "name": "ipython",
    "version": 3
   },
   "file_extension": ".py",
   "mimetype": "text/x-python",
   "name": "python",
   "nbconvert_exporter": "python",
   "pygments_lexer": "ipython3",
   "version": "3.8.10"
  },
  "orig_nbformat": 4
 },
 "nbformat": 4,
 "nbformat_minor": 2
}
